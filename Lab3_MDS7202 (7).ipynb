{
  "cells": [
    {
      "cell_type": "markdown",
      "metadata": {
        "id": "XUZ1dFPHzAHl"
      },
      "source": [
        "<h1><center>Laboratorio 3: La desperación de Mr. Cheems 🐼</center></h1>\n",
        "\n",
        "<center><strong>MDS7202: Laboratorio de Programación Científica para Ciencia de Datos - Primavera 2025</strong></center>"
      ]
    },
    {
      "cell_type": "markdown",
      "metadata": {
        "id": "UD8X1uhGzAHq"
      },
      "source": [
        "### Cuerpo Docente:\n",
        "\n",
        "- Profesores: Diego Cortez, Gabriel Iturra\n",
        "- Auxiliares: Melanie Peña, Valentina Rojas\n",
        "- Ayudantes: Nicolás Cabello, Cristopher Urbina"
      ]
    },
    {
      "cell_type": "markdown",
      "metadata": {
        "id": "tXflExjqzAHr"
      },
      "source": [
        "### Equipo: SUPER IMPORTANTE - notebooks sin nombre no serán revisados\n",
        "\n",
        "- Nombre de alumno 1: Sebastian Calderon Altamirano\n",
        "- Nombre de alumno 2: Camila Vera Gallardo\n"
      ]
    },
    {
      "cell_type": "markdown",
      "metadata": {
        "id": "AD-V0bbZzAHr"
      },
      "source": [
        "### **Link de repositorio de GitHub:** [Repositorio](https://github.com/...../)"
      ]
    },
    {
      "cell_type": "markdown",
      "metadata": {
        "id": "6uBLPj1PzAHs"
      },
      "source": [
        "## Temas a tratar\n",
        "- Aplicar Pandas para obtener características de un DataFrame.\n",
        "- Aplicar Pipelines y Column Transformers\n",
        "\n",
        "## Reglas:\n",
        "\n",
        "- **Grupos de 2 personas**\n",
        "- Fecha de entrega: Entregas Martes a las 23:59.\n",
        "- Instrucciones del lab el viernes a las 16:15 en formato online. Asistencia no es obligatoria, pero se recomienda **fuertemente** asistir.\n",
        "- <u>Prohibidas las copias</u>. Cualquier intento de copia será debidamente penalizado con el reglamento de la escuela.\n",
        "- Tienen que subir el laboratorio a u-cursos y a su repositorio de github. Labs que no estén en u-cursos no serán revisados. Recuerden que el repositorio también tiene nota.\n",
        "- Cualquier duda fuera del horario de clases al foro. Mensajes al equipo docente serán respondidos por este medio.\n",
        "- Pueden usar cualquier material del curso que estimen conveniente.\n",
        "\n",
        "### Objetivos principales del laboratorio\n",
        "- Comprender cómo aplicar pipelines de Scikit-Learn para generar procesos más limpios en Feature Engineering.\n",
        "\n",
        "El laboratorio deberá ser desarrollado sin el uso indiscriminado de iteradores nativos de python (aka \"for\", \"while\"). La idea es que aprendan a exprimir al máximo las funciones optimizadas que nos entrega `numpy`, las cuales vale mencionar, son bastante más eficientes que los iteradores nativos sobre arreglos (*o tensores*)."
      ]
    },
    {
      "cell_type": "markdown",
      "metadata": {
        "id": "wrG4gYabzAHs"
      },
      "source": [
        "## Descripción del laboratorio."
      ]
    },
    {
      "cell_type": "markdown",
      "metadata": {
        "id": "MhISwri4zAHy"
      },
      "source": [
        "### Importamos librerias utiles 😸"
      ]
    },
    {
      "cell_type": "code",
      "execution_count": null,
      "metadata": {
        "id": "uyc33dKdzAHy"
      },
      "outputs": [],
      "source": [
        "# Libreria Core del lab.\n",
        "import numpy as np\n",
        "import pandas as pd\n",
        "import datetime\n",
        "from IPython.display import HTML\n",
        "\n",
        "# Libreria para plotear (En colab esta desactualizado plotly)\n",
        "!pip install --upgrade plotly\n",
        "import plotly.express as px\n",
        "import plotly.graph_objects as go\n",
        "\n",
        "# Librerias utiles\n",
        "from sklearn.base import BaseEstimator, TransformerMixin\n",
        "from sklearn.pipeline import Pipeline\n",
        "from sklearn.compose import ColumnTransformer\n",
        "from sklearn.preprocessing import FunctionTransformer"
      ]
    },
    {
      "cell_type": "code",
      "execution_count": null,
      "metadata": {
        "id": "gQ0-zPV4NNrq"
      },
      "outputs": [],
      "source": [
        "# Si usted está utilizando Colabolatory le puede ser útil este código para cargar los archivos.\n",
        "try:\n",
        "    from google.colab import drive\n",
        "    drive.mount(\"/content/drive\")\n",
        "    path = '/MyDrive/MDS7202/online_retail_data.pickle'\n",
        "except:\n",
        "    print('Ignorando conexión drive-colab')"
      ]
    },
    {
      "cell_type": "markdown",
      "metadata": {
        "id": "QDwIXTh7bK_A"
      },
      "source": [
        "# Feature engineering en datos de retail 🛍️"
      ]
    },
    {
      "cell_type": "markdown",
      "metadata": {
        "id": "_Eu4qBqnXMff"
      },
      "source": [
        "### 0. Cargar Dataset"
      ]
    },
    {
      "cell_type": "markdown",
      "metadata": {
        "id": "4shIzqqwXMfe"
      },
      "source": [
        "<p align=\"center\">\n",
        "  <img width=300 src=\"https://s1.eestatic.com/2018/04/14/social/la_jungla_-_social_299733421_73842361_854x640.jpg\">\n",
        "</p>"
      ]
    },
    {
      "cell_type": "markdown",
      "metadata": {
        "id": "cDpKjYRCXMfg"
      },
      "source": [
        "Mr. Cheems, gerente de una cotizada tienda de retail en Europa, les solicita si pueden analizar los datos de algunas de sus tiendas. En una reunión, Mr Cheems le comenta que la calidad de sus datos no es muy buena, por lo que le solicita a usted que limpie su base de datos y cree nuevos atributos relevantes para el negocio.\n",
        "\n",
        "Por ello, el área de ventas les entrega archivo llamado `online_retail_data.pickle` el cual usted decide cargar a continuación."
      ]
    },
    {
      "cell_type": "code",
      "execution_count": null,
      "metadata": {
        "id": "7FNOu-CvjV5m"
      },
      "outputs": [],
      "source": [
        "# Se define el path del archivo\n",
        "path = '/content/drive/MyDrive/MDS7202/online_retail_data.pickle'\n",
        "\n",
        "# Se carga el archivo pickle en un DataFrame\n",
        "df_retail = pd.read_pickle(path)\n",
        "\n",
        "# Verificar las primeras filas\n",
        "df_retail.head()"
      ]
    },
    {
      "cell_type": "markdown",
      "metadata": {
        "id": "Q6nm_0uWvrFv"
      },
      "source": [
        "### 1. Función para explorar características [0.5 puntos]"
      ]
    },
    {
      "cell_type": "markdown",
      "metadata": {
        "id": "KOZEZbbLoqfI"
      },
      "source": [
        "<p align=\"center\">\n",
        "  <img width=300 src=\"https://editor.analyticsvidhya.com/uploads/47389meme.png\">\n",
        "</p>\n"
      ]
    },
    {
      "cell_type": "markdown",
      "metadata": {
        "id": "J-7ZaNutk2GO"
      },
      "source": [
        "\n",
        "\n",
        "Tras inspeccionar brevemente los datos proporcionados, usted decide crear una función que realice lo siguiente:\n",
        "- Plotee un histograma para las variables precios y cantidad. [0.3 puntos]\n",
        "- Imprima un conteo de datos nulos por variable [0.2 puntos]\n",
        "\n",
        "**Nota**: Para generar los gráficos no es obligatorio el uso de `plotly`, pero si es altamente recomendado. Pueden encontrar más información de esta librería en este [enlace](https://plotly.com/python/)."
      ]
    },
    {
      "cell_type": "markdown",
      "metadata": {
        "id": "TM8FZ_4Yuiwi"
      },
      "source": [
        "**Respuesta:**"
      ]
    },
    {
      "cell_type": "code",
      "execution_count": null,
      "metadata": {
        "id": "uDqT1Ljpk7vp"
      },
      "outputs": [],
      "source": [
        "def explore_data(dataframe_in):\n",
        "    # Hace una copia del dataframe\n",
        "    df = dataframe_in.copy()\n",
        "\n",
        "    # Conteo de nulos por variable\n",
        "    nulos = df.isna().sum().sort_values(ascending=False)\n",
        "    print(\" Conteo de datos nulos por variable\")\n",
        "    print(nulos)\n",
        "\n",
        "    # Histogramas\n",
        "    import plotly.express as px\n",
        "\n",
        "    fig1 = px.histogram(\n",
        "            df, x=\"Price\",\n",
        "            range_x=[0, 100],\n",
        "            title=\"Histograma de Price\")\n",
        "    fig1.update_traces(xbins=dict(start=1, end=100, size=2))\n",
        "    fig1.update_layout(bargap=0.05)\n",
        "    fig1.show()\n",
        "\n",
        "    fig2 = px.histogram(\n",
        "            df, x=\"Quantity\",\n",
        "            range_x=[0, 250],\n",
        "            title=\"Histograma de Quantity\")\n",
        "    fig2.update_traces(xbins=dict(start=0, end=250, size=10))\n",
        "    fig2.update_layout(bargap=0.05)\n",
        "    fig2.show()\n",
        "\n",
        "explore_data(df_retail)"
      ]
    },
    {
      "cell_type": "markdown",
      "metadata": {
        "id": "F4ZY_N0Ad1GP"
      },
      "source": [
        "### 2. Eliminando outliers [1.0 puntos]"
      ]
    },
    {
      "cell_type": "markdown",
      "metadata": {
        "id": "yXTpIi1Bo2KG"
      },
      "source": [
        "<p align=\"center\">\n",
        "  <img width=300 src=\"https://media.licdn.com/dms/image/C5612AQGdXKCka7HumA/article-cover_image-shrink_600_2000/0/1520056407281?e=2147483647&v=beta&t=VZcfjjzjK4LxXdZkSu1KisWC0Ry8bk4tPCn3R8aYdNM\">\n",
        "</p>\n",
        "\n",
        "\n"
      ]
    },
    {
      "cell_type": "markdown",
      "metadata": {
        "id": "ECqH4t-Jvj05"
      },
      "source": [
        "#### 2.1 Creando la clase IQR [0.5 puntos]"
      ]
    },
    {
      "cell_type": "markdown",
      "metadata": {
        "id": "GtCQGHN_mzEp"
      },
      "source": [
        "Entre las falencias de los datos, Mr. Cheems le comenta que a veces los operadores no ingresan el precio correcto de los productos. Mr. Cheems le comenta que se dio cuenta de este fenómeno porque hay productos con precios exagerádamente altos o bajos. Por lo cual usted decide eliminar outliers del dataframe a traves del rango intercuartil el cual cuenta con los siguientes pasos:\n",
        "\n",
        "1. Calcular el primer cuartil $Q1$ y el tercer cuartil $Q3$. Hint: utilice el método `quantile()`\n",
        "\n",
        "2. Calcular el rango intercuartil (RIC): $RIC = Q3 - Q1$\n",
        "\n",
        "3. Calcular los límites para identificar outliers:\n",
        " - Límite inferior: $~~Q1 - \\lambda \\cdot RIC$\n",
        " - Límite superior: $~~Q3 + \\lambda \\cdot RIC$\n",
        "\n",
        "4. Eliminar outliers: Los outliers son los datos que están por debajo del límite inferior o por encima del límite superior.\n",
        "\n",
        "\n",
        "Para realizar dicha tarea, usted decide crear una clase llamada `IQR()` utilizando `BaseEstimator` y `TransformerMixin` para realizar una transformación de cada una de las columnas numéricas del DataFrame utilizando `ColumnTransformer()` más tarde. Considere que lambda debe ser $\\lambda$ un parámetro a definir por el usuario.\n",
        "\n",
        "**Hint:** tome como referencia el siguiente [enlace](https://sklearn-template.readthedocs.io/en/latest/user_guide.html#transformer).\n",
        "\n",
        "**Nota:** No modificar el método set_output de la clase IQR"
      ]
    },
    {
      "cell_type": "markdown",
      "metadata": {
        "id": "3uqK6AZnuhmL"
      },
      "source": [
        "**Respuesta:**"
      ]
    },
    {
      "cell_type": "code",
      "execution_count": null,
      "metadata": {
        "id": "70CGFkRScKKP"
      },
      "outputs": [],
      "source": [
        "from typing import Iterable, Optional, Union\n",
        "\n",
        "class IQR(BaseEstimator, TransformerMixin):\n",
        "\n",
        "  def __init__(self,\n",
        "               lam: float = 1.5,\n",
        "               columns: Optional[Union[Iterable[str], str]] = None,\n",
        "               copy: bool = True):\n",
        "\n",
        "    self.lam = lam                    # Lambda\n",
        "    self.columns = columns  # Columnas\n",
        "    self.copy = copy                # Copia del DataFrame\n",
        "\n",
        "  def fit(self, X, y=None):\n",
        "    X_df = X.to_frame() if isinstance(X, pd.Series) else X\n",
        "\n",
        "    # Determinar columnas objetivo\n",
        "    cols = [self.columns] if isinstance(self.columns, str) else list(self.columns)\n",
        "\n",
        "    # Guardar columnas y quartiles\n",
        "    self.columns_ = cols\n",
        "    q1 = X_df[self.columns_].quantile(0.25, interpolation=\"linear\")\n",
        "    q3 = X_df[self.columns_].quantile(0.75, interpolation=\"linear\")\n",
        "    iqr = q3 - q1\n",
        "\n",
        "    self.q1_ = q1\n",
        "    self.q3_ = q3\n",
        "    self.iqr_ = iqr\n",
        "    self.lower_ = q1 - self.lam * iqr\n",
        "    self.upper_ = q3 + self.lam * iqr\n",
        "\n",
        "    return self\n",
        "\n",
        "  def transform(self, X):\n",
        "    is_series = isinstance(X, pd.Series)\n",
        "    X_df = X.to_frame() if is_series else X\n",
        "    if self.copy:\n",
        "      X_df = X_df.copy()\n",
        "\n",
        "    for col in self.columns_:\n",
        "      lower = self.lower_[col]\n",
        "      upper = self.upper_[col]\n",
        "      mask = (X_df[col] < lower) | (X_df[col] > upper)\n",
        "      X_df.loc[mask, col] = np.nan\n",
        "\n",
        "    return X_df.iloc[:, 0] if is_series else X_df\n",
        "\n",
        "  def set_output(self, transform='default'):\n",
        "    # No modificar esta función\n",
        "    return self"
      ]
    },
    {
      "cell_type": "markdown",
      "metadata": {
        "id": "Pse94ohOm1um"
      },
      "source": [
        "#### 2.2 Creación del Pipeline [0.5 puntos]"
      ]
    },
    {
      "cell_type": "markdown",
      "metadata": {
        "id": "JVWWiGA5m_Hj"
      },
      "source": [
        "Para comenzar introduciéndose en el uso de pipeline, usted decide definir un pipeline con el Transformer previamente definido. Además, usted decide visualizar cómo cambia la distribución de las variables Precio y Cantidad antes y despues de aplicar IQR. Para ello, usted aplica los siguientes pasos:\n",
        "\n",
        "- Definir un pipeline llamado `numeric_transformations` para las variables precio y cantidad con la transformación IQR. [0.1 puntos]\n",
        "- Defina un column transformer que aplique `numeric_transformations` para las variables numéricas y `passthrough` para las variables categóricas. Adicionalmente, fije el parámetro `verbose_feature_names_out` en `False`. Ver hint al final [0.1 puntos]\n",
        "- Defina el dataframe `df_iqr` aplicado el column transformer a los datos proporcionados por Mr. Cheems considerando un valor de $\\lambda$ que tenga un desempeño aceptable para ambas variables. [0.1 puntos]\n",
        "- Usar `explore_data` en `df_retail` y en `df_iqr`.  [0.1 puntos]\n",
        "- Reportar los cambios observados en la distribución de las variables. ¿Qué sucede al aumentar el valor de lambda? [0.1 puntos]\n",
        "\n",
        "\n",
        "**Hint:** El transformador `passthrough` está predefinido y es una opción que puedes usar para las columnas que no deseas transformar. Al especificar 'passthrough' para una parte de tu ColumnTransformer, las columnas correspondientes pasarán a través del ColumnTransformer sin ninguna modificación. El siguiente [enlace](https://scikit-learn.org/stable/modules/generated/sklearn.compose.ColumnTransformer.html) le puede ser útil.\n",
        "\n",
        "**Nota:** Mantenga el método set_output del column transformer con la transformación `pandas` para obtener un dataframe una vez aplicado el column transformer."
      ]
    },
    {
      "cell_type": "markdown",
      "metadata": {
        "id": "vkeizZcLuabD"
      },
      "source": [
        "**Respuesta:**"
      ]
    },
    {
      "cell_type": "markdown",
      "metadata": {
        "id": "LF24vWb4GwLo"
      },
      "source": [
        "Apóyese de la siguiente estructura para su respuesta:"
      ]
    },
    {
      "cell_type": "code",
      "execution_count": null,
      "metadata": {
        "id": "ZaSuz2NSn7g6"
      },
      "outputs": [],
      "source": [
        "# Definicion las variables que pasaran por cada pipeline\n",
        "numerical_columns = [\"Price\", \"Quantity\"]\n",
        "categorical_columns = [c for c in df_retail.columns if c not in numerical_columns]\n",
        "\n",
        "# Definicion del pipeline\n",
        "numeric_transformations = Pipeline(steps=[\n",
        "    (\"iqr\", IQR(lam=1.5, columns=numerical_columns, copy=True))\n",
        "])\n",
        "\n",
        "# ColumnTransformer\n",
        "column_transformer = ColumnTransformer([\n",
        "    ('numerical', numeric_transformations, numerical_columns),\n",
        "    ('categorical', 'passthrough', categorical_columns)\n",
        "], verbose_feature_names_out=False)\n",
        "\n",
        "column_transformer.set_output(transform='pandas')\n",
        "\n",
        "# Aplicamos ColumnTransformer a los datos\n",
        "df_iqr = column_transformer.fit_transform(df_retail)\n",
        "\n",
        "# Graficos\n",
        "print(\"\\n--- Exploración ANTES de IQR (df_retail) ---\")\n",
        "explore_data(df_retail)\n",
        "\n",
        "print(\"\\n--- Exploración DESPUÉS de IQR (df_iqr) ---\")\n",
        "explore_data(df_iqr)"
      ]
    },
    {
      "cell_type": "markdown",
      "metadata": {
        "id": "yPKnc6UcsDkm"
      },
      "source": [
        "*Reporte los cambios observados aquí.*"
      ]
    },
    {
      "cell_type": "markdown",
      "metadata": {
        "id": "MF5s4dqMYCbJ"
      },
      "source": [
        "### 3. Agregando un imputer al pipeline [1.0 puntos]\n",
        "\n"
      ]
    },
    {
      "cell_type": "markdown",
      "metadata": {
        "id": "2Bc9fFeXp-At"
      },
      "source": [
        "<p align=\"center\">\n",
        "  <img width=300 src=\"https://media.makeameme.org/created/hmm-there-is.jpg\">\n",
        "</p>"
      ]
    },
    {
      "cell_type": "markdown",
      "metadata": {
        "id": "uugEdc26vJ5N"
      },
      "source": [
        "Para continuar con la limpieza del dataframe usted decide imputar los datos nulos de las variables numéricas, para lo cual decide realizar las siguientes tareas:\n",
        "\n",
        "1. Crear un pipeline para variables categóricas llamado `categoric_transformations` con un paso llamado `mode_imputer`, en el cual se imputen los datos faltantes por la categoría más frecuente.\n",
        "2. Agregar al pipeline `numeric_transformations` un paso llamado `mean_imputer`, en el cual se imputen los datos por la media usando [SimpleImputer](https://scikit-learn.org/stable/modules/generated/sklearn.impute.SimpleImputer.html) [0.1 puntos]\n",
        "3. Crear y aplicar un `ColumnTransformer` actualizado con los pipelines `categoric_transformations` y `numeric_transformations` a `df_retail`, creando |un dataframe llamado `df_mean_imputer`. [0.1 puntos]\n",
        "4. Comparar los resultados de `explore_data` en `df_mean_imputer` y `df_iqr`. ¿Qué diferencias observa en la distribución de los datos? [0.2 puntos]\n",
        "5. Cambiar el imputer de `numeric_transformations` por [KNNImputer](https://scikit-learn.org/stable/modules/generated/sklearn.impute.KNNImputer.html) y definir un nuevo dataframe llamado `df_knn_imputer`, aplicando el nuevo ColumnTransformer a `df_retail`. En caso de los tiempos de ejecución sean altos puede probar a reducir el parámetro `n_neighbors`. [0.1 puntos]\n",
        "6. Comparar los resultados de `explore_data` en `df_knn_imputer` y `df_iqr`. ¿Qué diferencias observa en la distribución de los datos? [0.2 puntos]\n",
        "7. Comparar los resultados de `explore_data` en `df_knn_imputer` y `df_mean_imputer`. ¿Cuál método de imputación es mejor? Deje el método escogido en el ColumnTransformer. [0.2 puntos]\n",
        "\n",
        "**Nota: Fije el parámetro verbose_feature_names_out en `False` y utilice el método set_output con transformación `pandas` en cada ColumnTransformer para obtener como salida un dataframe.**"
      ]
    },
    {
      "cell_type": "markdown",
      "metadata": {
        "id": "ACVUdZZxuo4o"
      },
      "source": [
        "**Respuesta:**"
      ]
    },
    {
      "cell_type": "code",
      "execution_count": null,
      "metadata": {
        "id": "x8jgag-EYFai"
      },
      "outputs": [],
      "source": [
        "from sklearn.impute import SimpleImputer, KNNImputer\n",
        "\n",
        "numerical_columns = [\"Price\", \"Quantity\"]\n",
        "categorical_columns = [c for c in df_retail.columns if c not in numerical_columns]\n",
        "\n",
        "# Pipeline para categóricas\n",
        "categoric_transformations = Pipeline(steps=[\n",
        "    (\"mode_imputer\", SimpleImputer(strategy=\"most_frequent\"))\n",
        "])\n",
        "\n",
        "# Pipeline numérico para mean imputer\n",
        "numeric_transformations_mean = Pipeline(steps=[\n",
        "    (\"iqr\", IQR(lam=1.5, columns=numerical_columns, copy=True)),\n",
        "    (\"mean_imputer\", SimpleImputer(strategy=\"mean\"))\n",
        "])\n",
        "\n",
        "# ColumnTransformer para mean imputer\n",
        "column_transformer_mean = ColumnTransformer(\n",
        "    transformers=[\n",
        "        ('numerical', numeric_transformations_mean, numerical_columns),\n",
        "        ('categorical', categoric_transformations, categorical_columns)\n",
        "    ],\n",
        "    verbose_feature_names_out=False,\n",
        "    n_jobs=-1\n",
        ")\n",
        "column_transformer_mean.set_output(transform='pandas')\n",
        "df_mean_imputer = column_transformer_mean.fit_transform(df_retail)\n",
        "\n",
        "# Comparacion de distribuciones\n",
        "print(\"\\n--- Exploración DESPUÉS de IQR (df_iqr) ---\")\n",
        "explore_data(df_iqr)\n",
        "\n",
        "print(\"\\n--- Exploración TRAS IQR + MEAN IMPUTER (df_mean_imputer) ---\")\n",
        "explore_data(df_mean_imputer)"
      ]
    },
    {
      "cell_type": "code",
      "source": [
        "# Se aplica IGR primero\n",
        "df_iqr_applied = df_retail.copy()\n",
        "iqr_transformer = IQR(lam=1.5, columns=numerical_columns, copy=True)\n",
        "df_iqr_applied = iqr_transformer.fit_transform(df_iqr_applied)\n",
        "\n",
        "# Se identifica solo las filas con valores nulos en columnas numericas\n",
        "null_mask = df_iqr_applied[numerical_columns].isnull().any(axis=1)\n",
        "rows_with_nulls = df_iqr_applied[null_mask]\n",
        "rows_without_nulls = df_iqr_applied[~null_mask]\n",
        "\n",
        "print(f\"Filas con nulos: {len(rows_with_nulls)}/{len(df_iqr_applied)}\")\n",
        "\n",
        "if len(rows_with_nulls) > 0:\n",
        "    # Se aplica KNN solo a las filas con valores nulos\n",
        "    knn_imputer = KNNImputer(n_neighbors=3, weights=\"uniform\")\n",
        "\n",
        "    # Imputar solo las columnas numericas\n",
        "    numerical_data = rows_with_nulls[numerical_columns]\n",
        "    imputed_numerical = knn_imputer.fit_transform(numerical_data)\n",
        "\n",
        "    # Reconstruir el dataframe\n",
        "    rows_with_nulls_imputed = rows_with_nulls.copy()\n",
        "    rows_with_nulls_imputed[numerical_columns] = imputed_numerical\n",
        "\n",
        "    # Combinar con las filas sin nulos\n",
        "    df_knn_imputer = pd.concat([rows_without_nulls, rows_with_nulls_imputed])\n",
        "else:\n",
        "    df_knn_imputer = df_iqr_applied\n",
        "\n",
        "explore_data(df_knn_imputer)"
      ],
      "metadata": {
        "id": "mZhFb7RmyBpc"
      },
      "execution_count": null,
      "outputs": []
    },
    {
      "cell_type": "markdown",
      "metadata": {
        "id": "9PfBHpAsvSuD"
      },
      "source": [
        "4. **Comparación entre `df_mean_imputer` y `df_iqr`**: El método IQR dejó varios valores nulos en variables como `Price`, `Quantity`, `InvoiceDate` y `Country`, mientras que el Mean Imputer completó todos los valores nulos, lo que asegura que el conjunto de datos esté completamente imputado y listo para el análisis, haciendo que el Mean Imputer sea más efectivo.\n",
        "\n",
        "66. **Comparación entre `df_knn_imputer` y `df_iqr`**: Ambos métodos dejaron valores nulos en columnas como `InvoiceDate` y `Country`, pero IQR eliminó algunos outliers, lo que permitió que varias columnas se completaran, mientras que KNN Imputer no logró imputar estos valores correctamente, indicando que ambos métodos no fueron 100% efectivos en imputar todos los valores faltantes.\n",
        "\n",
        "7. **Comparación entre `df_knn_imputer` y `df_mean_imputer`**: El Mean Imputer es el mejor método, ya que imputó correctamente todos los valores nulos, mientras que el KNN Imputer dejó valores faltantes en columnas clave como `InvoiceDate` y `Country`. Por lo tanto, Mean Imputer es el mejor para asegurar un conjunto de datos completo y sin valores faltantes."
      ]
    },
    {
      "cell_type": "markdown",
      "metadata": {
        "id": "buuUiW-9YYZ3"
      },
      "source": [
        "### 4. Creación de nuevas features [2.0 puntos]"
      ]
    },
    {
      "cell_type": "markdown",
      "metadata": {
        "id": "RQSuoL5mubnA"
      },
      "source": [
        "<p align=\"center\">\n",
        "  <img width=250 src=\"https://miro.medium.com/max/1000/1*JtTWgAcfVTWV8OTjT47Atg.jpeg\">\n",
        "</p>\n"
      ]
    },
    {
      "cell_type": "markdown",
      "metadata": {
        "id": "4-yHP5oIvzFS"
      },
      "source": [
        "#### 4.1 Definicion de LRMFP [1.0 puntos]"
      ]
    },
    {
      "cell_type": "markdown",
      "metadata": {
        "id": "qe0V2CnZY8Bc"
      },
      "source": [
        "Dado que Mr. Lepin está interesado en obtener nuevos atributos relevantes para su negocio, su equipo de expertos sugiere la construcción de variables **LRMFP**, las que se construyen en base a las siguientes definiciones:\n",
        "\n",
        "- **Length (L)**: Intervalo de tiempo, en días, entre la primera y la última visita del cliente. Mientras mas grande sea el valor, mas fiel es el cliente.\n",
        "\n",
        "- **Recency (R)**: Indica hace cuanto tiempo el cliente realizo su ultima compra. Notar que para este caso, mientras mas grande es el valor, menos interes posee el usuario para repetir una compra en uno de los locales. **Considere \"hoy\" como la fecha mas reciente del dataset**.\n",
        "\n",
        "- **Monetary (M)**: El término \"monetario\" se refiere a la cantidad media de dinero gastada por cada visita del cliente durante el período de observación y refleja la contribución del cliente a los ingresos de la empresa.\n",
        "\n",
        "- **Frequency (F)**: Se refiere al número total de visitas del cliente durante el periodo de observación. Cuanto mayor sea la frecuencia, mayor será la fidelidad del cliente.\n",
        "\n",
        "- **Periodicity (P)**: Representa si los clientes visitan las tiendas con regularidad.\n",
        "\n",
        "$$Periodicity(n)=std(IVT_1, ..., IVT_n)$$\n",
        "\n",
        "Donde $IVT$ denota el tiempo entre visitas y n representa el número de valores de tiempo entre visitas de un cliente.\n",
        "\n",
        "\n",
        "$$IVT_i=date\\_diff(t_{i+1},t)$$\n",
        "\n",
        "En base a las definiciones señaladas, diseñe una función que permita obtener las características **LRMFP** recibiendo un DataFrame como entrada. Para esto, no estará permitido el uso de iteradores, utilice todas las herramientas que les ofrece `pandas` para realizar esto.\n",
        "\n",
        "Una referencia que le puede ser útil es el [documento original](https://www.researchgate.net/publication/315979555_LRFMP_model_for_customer_segmentation_in_the_grocery_retail_industry_a_case_study) en donde se propone este método."
      ]
    },
    {
      "cell_type": "markdown",
      "metadata": {
        "id": "L7ZwWJxhXMfk"
      },
      "source": [
        "**<u>Formato</u> del Resultado Esperado:**\n",
        "\n",
        "| Customer ID | Length | Recency | Frequency | Monetary | Periodicity |\n",
        "|------------:|-------:|--------:|----------:|---------:|------------:|\n",
        "|   12346.0   |    294 |      67 |        46 |   -64.68 |        37.0 |\n",
        "|   12347.0   |     37 |       3 |        71 |  1323.32 |         0.0 |\n",
        "|   12349.0   |    327 |      43 |       107 |  2646.99 |        78.0 |\n",
        "|   12352.0   |     16 |      11 |        18 |   343.80 |         0.0 |\n",
        "|   12356.0   |     44 |      16 |        84 |  3562.25 |        12.0 |"
      ]
    },
    {
      "cell_type": "markdown",
      "metadata": {
        "id": "6GaQZaMXXMfk"
      },
      "source": [
        "**Respuesta:**"
      ]
    },
    {
      "cell_type": "code",
      "execution_count": null,
      "metadata": {
        "id": "VsgqgqsjXMfl"
      },
      "outputs": [],
      "source": [
        "def custom_features(dataframe_in):\n",
        "    # Hacemos una copia para no modificar el original\n",
        "    df = dataframe_in.copy()\n",
        "\n",
        "    # Calculamos el gasto total por transaccion\n",
        "    df['Total'] = df['Price'] * df['Quantity']\n",
        "\n",
        "    # Encontramos la fecha mas reciente en el dataset (hoy)\n",
        "    hoy = df['Date'].max()\n",
        "\n",
        "    # Agrupamos por Customer ID\n",
        "    grouped = df.groupby('Customer ID')\n",
        "\n",
        "    # Calculamos Length: diferencia en dias entre primera y ultima visita\n",
        "    length = (grouped['Date'].max() - grouped['Date'].min()).dt.days\n",
        "\n",
        "    # Calculamos Recency: dias desde la ultima compra hasta hoy\n",
        "    recency = (hoy - grouped['Date'].max()).dt.days\n",
        "\n",
        "    # Calculamos Frequency: numero de visitas/transacciones\n",
        "    frequency = grouped.size()\n",
        "\n",
        "    # Calculamos Monetary: gasto total promedio por visita\n",
        "    monetary = grouped['Total'].sum() / frequency\n",
        "\n",
        "    # Calculamos Periodicity: desviacion estandar de los intervalos entre visitas (IVT)\n",
        "    # Primero ordenamos las fechas por cliente\n",
        "    df_sorted = df.sort_values(['Customer ID', 'Date'])\n",
        "    # Calculamos diferencias consecutivas por grupo\n",
        "    ivt = df_sorted.groupby('Customer ID')['Date'].diff().dt.days\n",
        "    # Calculamos la desviacion estandar de los IVT por cliente\n",
        "    periodicity = df_sorted.groupby('Customer ID')['Date'].apply(\n",
        "        lambda x: x.diff().dt.days.std() if len(x) > 1 else 0\n",
        "    )\n",
        "\n",
        "    # Juntamos todos los resultados en un DataFrame\n",
        "    lrmfp = pd.DataFrame({\n",
        "        'Length': length,\n",
        "        'Recency': recency,\n",
        "        'Frequency': frequency,\n",
        "        'Monetary': monetary,\n",
        "        'Periodicity': periodicity\n",
        "    }).reset_index()\n",
        "\n",
        "    return lrmfp"
      ]
    },
    {
      "cell_type": "markdown",
      "metadata": {
        "id": "1ddL8wThv36t"
      },
      "source": [
        "#### 4.2 Agregando las custom features [1.0 puntos]"
      ]
    },
    {
      "cell_type": "markdown",
      "metadata": {
        "id": "ehLWiQzjwDm-"
      },
      "source": [
        "Ahora, usted decide agregar al pipeline las nuevas variables creadas, para lo cual realiza las siguientes tareas:\n",
        "\n",
        "1. Cree un nuevo pipeline llamado `retail_pipeline` que encapsule el ColumnTransformer y calcule las LRMFP. El primer paso del pipeline llámelo  `col_tranformer` y el segundo paso llámelo `custom_features`, incorpora las nuevas variables al dataframe. Hint: les puede ser útil investigar [este](https://scikit-learn.org/stable/modules/generated/sklearn.preprocessing.FunctionTransformer.html) método. [0.1 puntos]\n",
        "2. Aplicar el pipeline actualizado a los datos proporcionados por Mr. Cheems, creando un nuevo dataframe llamado `df_custom`. [0.1 puntos]\n",
        "3. Explorar la distribución de las nuevas variables con `explore_data` y comentar brevemente (2-3 líneas) características de cada custom feature. [0.5 puntos]\n",
        "5. Entregar un insight para el negocio en base a las nuevas variables. [0.3 puntos]\n",
        "\n",
        "**Nota:** Recuerde fijar el parámetro `verbose_feature_names_out` en `False` e incorporar el método `set_output` para obtener una salida en formato dataframe del ColumnTransformer."
      ]
    },
    {
      "cell_type": "markdown",
      "metadata": {
        "id": "HVCGxPgtwFsk"
      },
      "source": [
        "**Respuesta**"
      ]
    },
    {
      "cell_type": "code",
      "source": [
        "from sklearn.compose import ColumnTransformer\n",
        "from sklearn.impute import SimpleImputer\n",
        "from sklearn.pipeline import Pipeline\n",
        "from sklearn.preprocessing import FunctionTransformer\n",
        "import numpy as np\n",
        "import pandas as pd\n",
        "\n",
        "# Definimos las columnas numéricas y categóricas\n",
        "numerical_columns = [\"Price\", \"Quantity\"]\n",
        "categorical_columns = [c for c in df_retail.columns if c not in numerical_columns]\n",
        "\n",
        "# Pipeline para variables categóricas\n",
        "categoric_transformations = Pipeline(steps=[\n",
        "    (\"mode_imputer\", SimpleImputer(strategy=\"most_frequent\"))\n",
        "])\n",
        "\n",
        "\n",
        "numeric_transformations_optimized = Pipeline(steps=[\n",
        "    (\"iqr\", IQR(lam=1.5, columns=numerical_columns, copy=True)),\n",
        "    (\"mean_imputer\", SimpleImputer(strategy=\"mean\"))\n",
        "])\n",
        "\n",
        "# ColumnTransformer optimizado\n",
        "column_transformer_optimized = ColumnTransformer(\n",
        "    transformers=[\n",
        "        ('numerical', numeric_transformations_optimized, numerical_columns),\n",
        "        ('categorical', categoric_transformations, categorical_columns)\n",
        "    ],\n",
        "    verbose_feature_names_out=False\n",
        ")\n",
        "\n",
        "# Establecer que la salida será un DataFrame\n",
        "column_transformer_optimized.set_output(transform='pandas')\n",
        "\n",
        "# Función optimizada para las nuevas características LRMFP\n",
        "def custom_features_optimized(dataframe_in):\n",
        "    \"\"\"\n",
        "    Función optimizada para calcular características LRMFP\n",
        "    \"\"\"\n",
        "    df = dataframe_in.copy()\n",
        "\n",
        "    # Asegurar que tenemos Customer ID válidos\n",
        "    df = df.dropna(subset=['Customer ID'])\n",
        "\n",
        "    # Convertir la fecha y manejar errores\n",
        "    if 'InvoiceDate' in df.columns:\n",
        "        df['Date'] = pd.to_datetime(df['InvoiceDate'], errors='coerce')\n",
        "    elif 'Date' in df.columns:\n",
        "        df['Date'] = pd.to_datetime(df['Date'], errors='coerce')\n",
        "    else:\n",
        "        raise ValueError(\"No se encontró columna de fecha\")\n",
        "\n",
        "\n",
        "    valid_dates = df['Date'].notna()\n",
        "    if not valid_dates.any():\n",
        "        print(\"Advertencia: No hay fechas válidas en el dataset\")\n",
        "        return pd.DataFrame(columns=['Customer ID', 'Length', 'Recency', 'Frequency', 'Monetary', 'Periodicity'])\n",
        "\n",
        "    # Trabajar solo con fechas válidas para cálculos LRMFP\n",
        "    df_valid = df[valid_dates].copy()\n",
        "\n",
        "    # Calcular el total por transacción\n",
        "    df_valid['Total'] = df_valid['Price'] * df_valid['Quantity']\n",
        "\n",
        "    # Fecha más reciente del dataset\n",
        "    hoy = df_valid['Date'].max()\n",
        "\n",
        "\n",
        "    # Cálculos agrupados optimizados\n",
        "    agg_dict = {\n",
        "        'Date': ['min', 'max', 'count'],\n",
        "        'Total': 'sum'\n",
        "    }\n",
        "\n",
        "    grouped = df_valid.groupby('Customer ID').agg(agg_dict)\n",
        "\n",
        "\n",
        "    grouped.columns = ['FirstDate', 'LastDate', 'Frequency', 'TotalSum']\n",
        "    grouped = grouped.reset_index()\n",
        "\n",
        "    # Cálculos básicos\n",
        "    grouped['Length'] = (grouped['LastDate'] - grouped['FirstDate']).dt.days\n",
        "    grouped['Recency'] = (hoy - grouped['LastDate']).dt.days\n",
        "    grouped['Monetary'] = grouped['TotalSum'] / grouped['Frequency']\n",
        "\n",
        "    # Periodicity optimizada\n",
        "    df_sorted = df_valid[['Customer ID', 'Date']].sort_values(['Customer ID', 'Date'])\n",
        "\n",
        "    # Calcular diferencias de tiempo de forma vectorizada\n",
        "    df_sorted['DateDiff'] = df_sorted.groupby('Customer ID')['Date'].diff().dt.days\n",
        "\n",
        "    # Calcular desviación estándar de los intervalos\n",
        "    periodicity_dict = {}\n",
        "    for customer_id in df_sorted['Customer ID'].unique():\n",
        "        customer_diffs = df_sorted[df_sorted['Customer ID'] == customer_id]['DateDiff'].dropna()\n",
        "        if len(customer_diffs) > 0:\n",
        "            periodicity_dict[customer_id] = customer_diffs.std()\n",
        "        else:\n",
        "            periodicity_dict[customer_id] = 0\n",
        "\n",
        "    # Mapear periodicity\n",
        "    grouped['Periodicity'] = grouped['Customer ID'].map(periodicity_dict).fillna(0)\n",
        "\n",
        "    # Redondear para mejor presentación\n",
        "    grouped['Monetary'] = grouped['Monetary'].round(2)\n",
        "    grouped['Periodicity'] = grouped['Periodicity'].round(1)\n",
        "\n",
        "    result = grouped[['Customer ID', 'Length', 'Recency', 'Frequency', 'Monetary', 'Periodicity']]\n",
        "\n",
        "    print(f\"Características LRMFP calculadas para {len(result)} clientes\")\n",
        "    return result\n",
        "\n",
        "# Definir el pipeline completo optimizado\n",
        "retail_pipeline = Pipeline([\n",
        "    ('col_transformer', column_transformer_optimized),\n",
        "    ('custom_features', FunctionTransformer(custom_features_optimized, validate=False))\n",
        "])\n",
        "\n",
        "# Aplicar el pipeline al DataFrame\n",
        "df_custom = retail_pipeline.fit_transform(df_retail)\n",
        "\n",
        "print(f\"DataFrame resultante: {df_custom.shape}\")\n",
        "print(\"\\nPrimeras 5 filas:\")\n",
        "print(df_custom.head())\n",
        "\n",
        "# Función optimizada para explorar las nuevas características LRMFP\n",
        "def explore_data_custom_optimized(dataframe_in):\n",
        "    df = dataframe_in.copy()\n",
        "\n",
        "    # Conteo de nulos por variable\n",
        "    nulos = df.isna().sum().sort_values(ascending=False)\n",
        "    print(\"Conteo de datos nulos por variable\")\n",
        "    print(nulos)\n",
        "\n",
        "    # Estadísticas descriptivas\n",
        "    print(\"\\nEstadísticas descriptivas:\")\n",
        "    print(df.describe())\n",
        "\n",
        "    # Histogramas para cada variable LRMFP\n",
        "    lrmfp_cols = ['Length', 'Recency', 'Frequency', 'Monetary', 'Periodicity']\n",
        "\n",
        "    import plotly.express as px\n",
        "\n",
        "    for col in lrmfp_cols:\n",
        "        if col in df.columns:\n",
        "            # Eliminar outliers extremos para mejor visualización\n",
        "            q1 = df[col].quantile(0.01)\n",
        "            q99 = df[col].quantile(0.99)\n",
        "            df_plot = df[(df[col] >= q1) & (df[col] <= q99)]\n",
        "\n",
        "            fig = px.histogram(\n",
        "                df_plot,\n",
        "                x=col,\n",
        "                title=f'Histograma de {col}',\n",
        "                nbins=50\n",
        "            )\n",
        "            fig.show()\n",
        "\n",
        "# Explorar las nuevas características\n",
        "explore_data_custom_optimized(df_custom)"
      ],
      "metadata": {
        "id": "qwDWMHrgcCEf"
      },
      "execution_count": null,
      "outputs": []
    },
    {
      "cell_type": "markdown",
      "metadata": {
        "id": "qOV0y-e_lS39"
      },
      "source": [
        "### 5. MinMax Scaler [1.0 puntos]"
      ]
    },
    {
      "cell_type": "markdown",
      "metadata": {
        "id": "T55ZgReXvjGe"
      },
      "source": [
        "<p align=\"center\">\n",
        "  <img width=300 src=\"https://i.imgflip.com/1fsprn.jpg\">\n",
        "</p>\n"
      ]
    },
    {
      "cell_type": "markdown",
      "metadata": {
        "id": "4dk2R1kvuu-e"
      },
      "source": [
        "#### 5.1 Definición del Column Transformer [0.5 puntos]"
      ]
    },
    {
      "cell_type": "markdown",
      "metadata": {
        "id": "iWsfp1dKXMfo"
      },
      "source": [
        "Construya una clase llamada `MinMax()` para realizar una transformación de cada una de las columnas de un DataFrame utilizando `ColumnTransformer()`. Recuerde  usar `BaseEstimator` y `TransformerMixin`.\n",
        "\n",
        "\n",
        " Para esto considere que Min-Max escaler queda dada por la ecuación:\n",
        "\n",
        "$$MinMax = \\dfrac{x-min(x)}{max(x) - min(x)}$$\n",
        "\n",
        "\n",
        "Consulte el siguiente [link](https://sklearn-template.readthedocs.io/en/latest/user_guide.html#transformer) si tiene dudas sobre la creación de custom transformers."
      ]
    },
    {
      "cell_type": "markdown",
      "metadata": {
        "id": "MUOLTWPDXMfo"
      },
      "source": [
        "**Respuesta:**"
      ]
    },
    {
      "cell_type": "code",
      "source": [
        "class MinMax(BaseEstimator, TransformerMixin):\n",
        "    def fit(self, X, y=None):\n",
        "        # Si X es un DataFrame, calculamos el mínimo y el máximo para cada columna numérica\n",
        "        if isinstance(X, pd.DataFrame):\n",
        "            self.min_ = X.min()\n",
        "            self.max_ = X.max()\n",
        "        else:\n",
        "            raise ValueError(\"El input X debe ser un DataFrame.\")\n",
        "\n",
        "        return self\n",
        "\n",
        "    def transform(self, X):\n",
        "        if isinstance(X, pd.DataFrame):\n",
        "            # Normalizamos con la fórmula Min-Max\n",
        "            X_normalized = (X - self.min_) / (self.max_ - self.min_)\n",
        "        else:\n",
        "            raise ValueError(\"El input X debe ser un DataFrame.\")\n",
        "\n",
        "        return X_normalized\n",
        "\n",
        "    def set_output(self, transform='default'):\n",
        "        # No modificar este método\n",
        "        return self\n"
      ],
      "metadata": {
        "id": "gjFzKT5tUYBe"
      },
      "execution_count": null,
      "outputs": []
    },
    {
      "cell_type": "markdown",
      "metadata": {
        "id": "RySqWq1Muzp8"
      },
      "source": [
        "#### 5.2 Incorporando MinMax al pipeline [0.5 puntos]"
      ]
    },
    {
      "cell_type": "markdown",
      "metadata": {
        "id": "zmIqjkgDwRsV"
      },
      "source": [
        "Ahora, usted decide agregar el escalamiento al pipeline, para lo que decide seguir los siguientes pasos:\n",
        "\n",
        "- Agregar el paso `minmax` al pipeline `numeric_transformations`, haciendo uso de la clase creada. [0.1 puntos]\n",
        "- Defina el dataframe `df_minmax` aplicando el ColumnTransformer actualizado a los datos proporcionados por Mr. Cheems. [0.1 puntos]\n",
        "- Usar `explore_data` en `df_retail` y en `df_minmax`. [0.1 puntos]\n",
        "- Reportar los cambios observados en la distribución de las variables.  [0.2 puntos]\n",
        "\n",
        "**Nota:** Recuerde fijar el parámetro `verbose_feature_names_out` en `False` e incorporar el método `set_output` para obtener una salida en formato dataframe del ColumnTransformer."
      ]
    },
    {
      "cell_type": "markdown",
      "metadata": {
        "id": "lL2_CyAGXMfp"
      },
      "source": [
        "**Respuesta:**"
      ]
    },
    {
      "cell_type": "code",
      "execution_count": null,
      "metadata": {
        "id": "NmApXgB8XMfp"
      },
      "outputs": [],
      "source": [
        "# Primero, definimos el pipeline para las transformaciones numéricas, incluyendo MinMax\n",
        "numeric_transformations_minmax = Pipeline(steps=[\n",
        "    (\"iqr\", IQR(lam=1.5, columns=numerical_columns, copy=True)),  # Usar el IQR como antes\n",
        "    (\"minmax\", MinMax())  # Agregar el transformador MinMax al pipeline\n",
        "])\n",
        "\n",
        "# Actualizamos el ColumnTransformer para aplicar las transformaciones numéricas y categóricas\n",
        "column_transformer_minmax = ColumnTransformer(\n",
        "    transformers=[\n",
        "        ('numerical', numeric_transformations_minmax, numerical_columns),\n",
        "        ('categorical', categoric_transformations, categorical_columns)\n",
        "    ],\n",
        "    verbose_feature_names_out=False  # Fijamos esto en False\n",
        ")\n",
        "\n",
        "# Establecemos que la salida será un DataFrame\n",
        "column_transformer_minmax.set_output(transform='pandas')\n",
        "\n",
        "# Aplicamos el ColumnTransformer actualizado a los datos proporcionados por Mr. Cheems\n",
        "df_minmax = column_transformer_minmax.fit_transform(df_retail)\n",
        "\n",
        "# Función para explorar las distribuciones de las variables\n",
        "def explore_data(dataframe_in):\n",
        "    df = dataframe_in.copy()\n",
        "\n",
        "    # Conteo de nulos por variable\n",
        "    nulos = df.isna().sum().sort_values(ascending=False)\n",
        "    print(\"Conteo de datos nulos por variable\")\n",
        "    print(nulos)\n",
        "\n",
        "    # Histogramas para las variables Price y Quantity (en este caso se mostrarán todas las variables numéricas)\n",
        "    import plotly.express as px\n",
        "\n",
        "    fig1 = px.histogram(\n",
        "            df, x=\"Price\",\n",
        "            range_x=[0, 100],\n",
        "            title=\"Histograma de Price\")\n",
        "    fig1.update_traces(xbins=dict(start=1, end=100, size=2))\n",
        "    fig1.update_layout(bargap=0.05)\n",
        "    fig1.show()\n",
        "\n",
        "    fig2 = px.histogram(\n",
        "            df, x=\"Quantity\",\n",
        "            range_x=[0, 250],\n",
        "            title=\"Histograma de Quantity\")\n",
        "    fig2.update_traces(xbins=dict(start=0, end=250, size=10))\n",
        "    fig2.update_layout(bargap=0.05)\n",
        "    fig2.show()\n",
        "\n",
        "# Exploramos las distribuciones en los datos originales y transformados\n",
        "explore_data(df_retail)\n",
        "\n",
        "explore_data(df_minmax)\n"
      ]
    },
    {
      "cell_type": "markdown",
      "metadata": {
        "id": "iWXlAO8-wfNt"
      },
      "source": [
        "### 6. Pregunta teórica [0.5 puntos]"
      ]
    },
    {
      "cell_type": "markdown",
      "metadata": {
        "id": "JvsFRwpVtMh_"
      },
      "source": [
        "<p align=\"center\">\n",
        "  <img width=300 src=\"https://file.coinexstatic.com/2023-09-19/166BAC031F222E5910954E7D7D0BC844.png\">\n",
        "</p>"
      ]
    },
    {
      "cell_type": "markdown",
      "metadata": {
        "id": "Ou7lQIAHwiZv"
      },
      "source": [
        "Finalmente, explíquele a Mr. Cheems porqué es útil la creación de pipelines al momento de hacer Feature Engineering en Machine Learning."
      ]
    },
    {
      "cell_type": "markdown",
      "metadata": {
        "id": "29QJyzOCwjdD"
      },
      "source": [
        "**Respuesta:**"
      ]
    },
    {
      "cell_type": "markdown",
      "metadata": {
        "id": "YMDYYL1stUVO"
      },
      "source": [
        "Es importante usar pipelines en el Feature Engineering porque ayuda a organizar y automatizar el proceso de preparación de datos de manera clara y consistente. Esto facilita el trabajo con los datos al asegurarse de que las transformaciones se apliquen de la misma manera cada vez, evitando errores comunes como la fuga de información. Además, los pipelines hacen que el proceso sea más fácil de entender y reproducir, lo que mejora la capacidad para tomar decisiones informadas y trabajar en equipo."
      ]
    }
  ],
  "metadata": {
    "colab": {
      "provenance": []
    },
    "deepnote_execution_queue": [],
    "deepnote_notebook_id": "33c253a4f84d40a091bd5023e95abb64",
    "kernelspec": {
      "display_name": "Lab_MDS_Primavera",
      "language": "python",
      "name": "python3"
    },
    "language_info": {
      "codemirror_mode": {
        "name": "ipython",
        "version": 3
      },
      "file_extension": ".py",
      "mimetype": "text/x-python",
      "name": "python",
      "nbconvert_exporter": "python",
      "pygments_lexer": "ipython3",
      "version": "3.12.0"
    }
  },
  "nbformat": 4,
  "nbformat_minor": 0
}